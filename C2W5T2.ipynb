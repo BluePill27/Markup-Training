{
 "cells": [
  {
   "cell_type": "code",
   "execution_count": 21,
   "metadata": {},
   "outputs": [],
   "source": [
    "from sklearn import datasets, naive_bayes\n",
    "import numpy as np\n",
    "import pandas as pd\n",
    "from sklearn.model_selection import train_test_split, cross_val_score"
   ]
  },
  {
   "cell_type": "code",
   "execution_count": 5,
   "metadata": {},
   "outputs": [],
   "source": [
    "data_digits = datasets.load_digits()\n",
    "data_breast = datasets.load_breast_cancer()"
   ]
  },
  {
   "cell_type": "code",
   "execution_count": 17,
   "metadata": {},
   "outputs": [],
   "source": [
    "X_digits_train, X_digits_test, y_digits_train, y_digits_test = train_test_split(data_digits['data'], \n",
    "                                                                                data_digits['target'],\n",
    "                                                                                train_size = 0.7,\n",
    "                                                                                test_size = 0.3)\n",
    "\n",
    "X_breast_train, X_breast_test, y_breast_train, y_breast_test = train_test_split(data_breast['data'], \n",
    "                                                                                data_breast['target'],\n",
    "                                                                                train_size = 0.7,\n",
    "                                                                                test_size = 0.3)"
   ]
  },
  {
   "cell_type": "code",
   "execution_count": 18,
   "metadata": {},
   "outputs": [],
   "source": [
    "X_digits, y_digits = data_digits['data'], data_digits['target']\n",
    "X_breast, y_breast = data_breast['data'], data_breast['target']"
   ]
  },
  {
   "cell_type": "code",
   "execution_count": 22,
   "metadata": {},
   "outputs": [],
   "source": [
    "clf_bern = naive_bayes.BernoulliNB()\n",
    "clf_breast_bern = cross_val_score(clf_bern, X_breast, y_breast, cv = 10).mean()\n",
    "clf_digits_bern = cross_val_score(clf_bern, X_digits, y_digits, cv = 10).mean()"
   ]
  },
  {
   "cell_type": "code",
   "execution_count": 24,
   "metadata": {},
   "outputs": [],
   "source": [
    "clf_mult = naive_bayes.MultinomialNB()\n",
    "clf_breast_mult = cross_val_score(clf_mult, X_breast, y_breast, cv = 10).mean()\n",
    "clf_digits_mult = cross_val_score(clf_mult, X_digits, y_digits, cv = 10).mean()"
   ]
  },
  {
   "cell_type": "code",
   "execution_count": 25,
   "metadata": {},
   "outputs": [],
   "source": [
    "clf_gauss = naive_bayes.GaussianNB()\n",
    "clf_breast_gauss = cross_val_score(clf_gauss, X_breast, y_breast, cv = 10).mean()\n",
    "clf_digits_gauss = cross_val_score(clf_gauss, X_digits, y_digits, cv = 10).mean()"
   ]
  },
  {
   "cell_type": "code",
   "execution_count": 26,
   "metadata": {},
   "outputs": [],
   "source": [
    "res_breast = [clf_breast_bern, clf_breast_mult, clf_breast_gauss]\n",
    "res_digits = [clf_digits_bern, clf_digits_mult, clf_digits_gauss]"
   ]
  },
  {
   "cell_type": "code",
   "execution_count": 27,
   "metadata": {},
   "outputs": [
    {
     "name": "stdout",
     "output_type": "stream",
     "text": [
      "result for breast: [0.6274274047186933, 0.8929349235156856, 0.9386796733212339]\n",
      "result for digits: [0.831855746495016, 0.8819396216300838, 0.8103537583567821]\n"
     ]
    }
   ],
   "source": [
    "print('result for breast:', res_breast)\n",
    "print('result for digits:', res_digits)"
   ]
  },
  {
   "cell_type": "code",
   "execution_count": 34,
   "metadata": {},
   "outputs": [],
   "source": [
    "with open(\"Bayes1.txt\", \"w\") as fout:\n",
    "    fout.write(str(max(res_breast)))\n",
    "with open(\"Bayes2.txt\", \"w\") as fout:\n",
    "    fout.write(str(max(res_digits)))\n",
    "with open(\"Bayes3.txt\", \"w\") as fout:\n",
    "    for item in [3,4]:\n",
    "        fout.write(str(item)+' ')"
   ]
  }
 ],
 "metadata": {
  "kernelspec": {
   "display_name": "Python 3",
   "language": "python",
   "name": "python3"
  },
  "language_info": {
   "codemirror_mode": {
    "name": "ipython",
    "version": 3
   },
   "file_extension": ".py",
   "mimetype": "text/x-python",
   "name": "python",
   "nbconvert_exporter": "python",
   "pygments_lexer": "ipython3",
   "version": "3.6.8"
  }
 },
 "nbformat": 4,
 "nbformat_minor": 2
}
